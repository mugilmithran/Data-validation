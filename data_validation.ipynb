{
 "cells": [
  {
   "cell_type": "code",
   "execution_count": 50,
   "id": "bcaf00ef-0e2a-41c7-9e27-0decebcceb9e",
   "metadata": {},
   "outputs": [],
   "source": [
    "from pyspark.sql import SparkSession\n",
    "from pyspark.sql.functions import col, when"
   ]
  },
  {
   "cell_type": "code",
   "execution_count": 51,
   "id": "959d3969-59be-4560-95c2-ae5eea6fd900",
   "metadata": {},
   "outputs": [],
   "source": [
    "# Creating spark session\n",
    "spark = SparkSession.builder.getOrCreate()"
   ]
  },
  {
   "cell_type": "code",
   "execution_count": 52,
   "id": "0c9b3696-accb-439e-94d4-693ab8628efa",
   "metadata": {},
   "outputs": [],
   "source": [
    "# Creating spark datframes by reading csv files.\n",
    "spark_pre_df = spark.read.csv('pre.csv', header=True, inferSchema=True)\n",
    "spark_post_df = spark.read.csv('post.csv', header=True, inferSchema=True)\n",
    "\n",
    "keys = ['InvoiceNo', 'StockCode', 'CustomerID', 'InvoiceDate']"
   ]
  },
  {
   "cell_type": "code",
   "execution_count": 53,
   "id": "67ea0d91-e91b-4f75-9fb5-61a55060cb2f",
   "metadata": {},
   "outputs": [],
   "source": [
    "# Dropping duplicate keys.\n",
    "spark_pre_df = spark_pre_df.dropDuplicates(keys)\n",
    "spark_post_df = spark_post_df.dropDuplicates(keys)"
   ]
  },
  {
   "cell_type": "code",
   "execution_count": 54,
   "id": "049e9272-2156-49df-ac69-ba7836c78b46",
   "metadata": {},
   "outputs": [],
   "source": [
    "# Joining two dataframes.\n",
    "for column in spark_pre_df.columns:\n",
    "    if column not in keys:\n",
    "        spark_pre_df = spark_pre_df.withColumnRenamed(column, column + \"_pre\")\n",
    "        spark_post_df = spark_post_df.withColumnRenamed(column, column + \"_post\")\n",
    "        \n",
    "spark_merge_df = spark_pre_df.join(spark_post_df, on=keys, how='inner')\n",
    "\n"
   ]
  },
  {
   "cell_type": "code",
   "execution_count": 60,
   "id": "e91381b9-b5b1-4889-a322-bdcb10db6430",
   "metadata": {},
   "outputs": [],
   "source": [
    "spark_diff_df = spark_merge_df.withColumn('Quantity_diff', col('Quantity_post') - col('Quantity_pre')).withColumn('UnitPrice_diff', col('UnitPrice_post') - col('UnitPrice_pre')).withColumn('Description_diff', when(col('Description_post') != col('Description_pre'), col('Description_post') + ' | ' + col('Description_pre')).otherwise('No Change'))"
   ]
  },
  {
   "cell_type": "code",
   "execution_count": 61,
   "id": "7319bbad-246e-4850-aef9-471140951679",
   "metadata": {},
   "outputs": [],
   "source": [
    "spark_diff_df = spark_diff_df.fillna('')\n",
    "\n",
    "columns = spark_diff_df.columns\n",
    "\n",
    "selected_col = ['Description_pre', 'Description_post', 'Description_diff', 'UnitPrice_pre', 'UnitPrice_post', 'UnitPrice_diff', 'Quantity_pre', 'Quantity_post', 'Quantity_diff', 'Country_pre', 'Country_post']\n",
    "\n",
    "order = keys + selected_col\n"
   ]
  },
  {
   "cell_type": "code",
   "execution_count": 57,
   "id": "ed2fd6ca-3575-4fb1-bd0e-244479a29e70",
   "metadata": {},
   "outputs": [
    {
     "name": "stdout",
     "output_type": "stream",
     "text": [
      "+---------+---------+----------+---------------+--------------------+--------------------+----------------+-------------+--------------+--------------+------------+-------------+-------------+--------------+--------------+\n",
      "|InvoiceNo|StockCode|CustomerID|    InvoiceDate|     Description_pre|    Description_post|Description_diff|UnitPrice_pre|UnitPrice_post|UnitPrice_diff|Quantity_pre|Quantity_post|Quantity_diff|   Country_pre|  Country_post|\n",
      "+---------+---------+----------+---------------+--------------------+--------------------+----------------+-------------+--------------+--------------+------------+-------------+-------------+--------------+--------------+\n",
      "|   544392|   84997D|     14680|2/18/2011 11:54|PINK 3 PIECE POLK...|PINK 3 PIECE POLK...|            NULL|         3.75|          3.75|           0.0|          72|           77|            5|United Kingdom|United Kingdom|\n",
      "|   544391|    22292|     15755|2/18/2011 11:53|HANGING CHICK  YE...|HANGING CHICK  YE...|            NULL|         1.45|          1.45|           0.0|          24|           15|           -9|United Kingdom|United Kingdom|\n",
      "+---------+---------+----------+---------------+--------------------+--------------------+----------------+-------------+--------------+--------------+------------+-------------+-------------+--------------+--------------+\n",
      "\n"
     ]
    }
   ],
   "source": [
    "filtered_data = spark_diff_df.filter(col('Quantity_diff') != 0)\n",
    "ordered_df = filtered_data.select(*order)\n",
    "ordered_df.show()"
   ]
  },
  {
   "cell_type": "code",
   "execution_count": 58,
   "id": "6f501371-639e-4875-a1ed-0f6fa95bd6d1",
   "metadata": {},
   "outputs": [
    {
     "name": "stdout",
     "output_type": "stream",
     "text": [
      "+---------+---------+----------+--------------+--------------------+--------------------+----------------+-------------+--------------+-------------------+------------+-------------+-------------+-----------+------------+\n",
      "|InvoiceNo|StockCode|CustomerID|   InvoiceDate|     Description_pre|    Description_post|Description_diff|UnitPrice_pre|UnitPrice_post|     UnitPrice_diff|Quantity_pre|Quantity_post|Quantity_diff|Country_pre|Country_post|\n",
      "+---------+---------+----------+--------------+--------------------+--------------------+----------------+-------------+--------------+-------------------+------------+-------------+-------------+-----------+------------+\n",
      "|   536370|    22728|     12583|12/1/2010 8:45|ALARM CLOCK BAKEL...|ALARM CLOCK BAKEL...|            NULL|         3.75|          3.94|0.18999999999999995|          24|           24|            0|     France|      France|\n",
      "|   536370|    22659|     12583|12/1/2010 8:45|LUNCH BOX I LOVE ...|LUNCH BOX I LOVE ...|            NULL|         1.95|          2.95| 1.0000000000000002|          24|           24|            0|     France|      France|\n",
      "+---------+---------+----------+--------------+--------------------+--------------------+----------------+-------------+--------------+-------------------+------------+-------------+-------------+-----------+------------+\n",
      "\n"
     ]
    }
   ],
   "source": [
    "filter_data = spark_diff_df.filter(col('UnitPrice_diff') != 0)\n",
    "ordered_df = filter_data.select(*order)\n",
    "ordered_df.show()"
   ]
  },
  {
   "cell_type": "code",
   "execution_count": 62,
   "id": "37f5f5b6-a18d-4fec-b87c-e0798a674f52",
   "metadata": {},
   "outputs": [
    {
     "name": "stdout",
     "output_type": "stream",
     "text": [
      "+---------+---------+----------+--------------+--------------------+--------------------+----------------+-------------+--------------+--------------+------------+-------------+-------------+--------------+--------------+\n",
      "|InvoiceNo|StockCode|CustomerID|   InvoiceDate|     Description_pre|    Description_post|Description_diff|UnitPrice_pre|UnitPrice_post|UnitPrice_diff|Quantity_pre|Quantity_post|Quantity_diff|   Country_pre|  Country_post|\n",
      "+---------+---------+----------+--------------+--------------------+--------------------+----------------+-------------+--------------+--------------+------------+-------------+-------------+--------------+--------------+\n",
      "|   536367|    22745|     13047|12/1/2010 8:34|POPPY'S PLAYHOUSE...|POPPY'S PLAYHOUSE...|                |          2.1|           2.1|           0.0|           6|            6|            0|United Kingdom|United Kingdom|\n",
      "|   536367|    48187|     13047|12/1/2010 8:34| DOORMAT NEW ENGLAND|DOORMAT NEW ENGLA...|                |         7.95|          7.95|           0.0|           4|            4|            0|United Kingdom|United Kingdom|\n",
      "+---------+---------+----------+--------------+--------------------+--------------------+----------------+-------------+--------------+--------------+------------+-------------+-------------+--------------+--------------+\n",
      "\n"
     ]
    }
   ],
   "source": [
    "description_filtered_data = spark_diff_df.filter(col('Description_post') != col('Description_pre'))\n",
    "ordered_df = description_filtered_data.select(*order)\n",
    "ordered_df.show()"
   ]
  },
  {
   "cell_type": "code",
   "execution_count": null,
   "id": "ccd3d0f2-8850-4954-a758-74bd979e2444",
   "metadata": {},
   "outputs": [],
   "source": []
  },
  {
   "cell_type": "code",
   "execution_count": null,
   "id": "35c7aa25-24cc-40cb-8246-7e373502d6ad",
   "metadata": {},
   "outputs": [],
   "source": []
  },
  {
   "cell_type": "code",
   "execution_count": null,
   "id": "4066dd49-6396-4890-b2c3-30d4b495db9b",
   "metadata": {},
   "outputs": [],
   "source": []
  },
  {
   "cell_type": "code",
   "execution_count": null,
   "id": "305e1a0c-6fba-4b11-9053-ab4e128e16c9",
   "metadata": {},
   "outputs": [],
   "source": []
  }
 ],
 "metadata": {
  "kernelspec": {
   "display_name": "Python 3 (ipykernel)",
   "language": "python",
   "name": "python3"
  },
  "language_info": {
   "codemirror_mode": {
    "name": "ipython",
    "version": 3
   },
   "file_extension": ".py",
   "mimetype": "text/x-python",
   "name": "python",
   "nbconvert_exporter": "python",
   "pygments_lexer": "ipython3",
   "version": "3.12.3"
  }
 },
 "nbformat": 4,
 "nbformat_minor": 5
}
